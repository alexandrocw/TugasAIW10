{
  "nbformat": 4,
  "nbformat_minor": 0,
  "metadata": {
    "colab": {
      "provenance": []
    },
    "kernelspec": {
      "name": "python3",
      "display_name": "Python 3"
    },
    "language_info": {
      "name": "python"
    }
  },
  "cells": [
    {
      "cell_type": "markdown",
      "source": [
        "# Tugas Kecerdasan Buatan Week 10\n",
        "\n",
        "Nama  : Alexandro Christian Wijaya\n",
        "\n",
        "NIM   : 19/443564/TK/48760\n",
        "\n",
        "Prodi : Sarjana Teknik Elektro\n",
        "\n",
        "# Deskripsi tugas\n",
        "\n",
        "* Carilah sebuah masalah real yang bisa diatasi dengan model DL menggunakan Pytorch (disarankan) atau Tensorflow.\n",
        "* Tentukan dan analisis model yang digunakan berdasar permasalahan yang diangkat.\n",
        "* Buatlah video demo dari model yang telah dibuat."
      ],
      "metadata": {
        "id": "P53om5XPei9I"
      }
    },
    {
      "cell_type": "markdown",
      "source": [
        "# Permasalahan yang Diangkat\n",
        "\n",
        "Prediksi harga median perumahan di California dalam 1 block (dalam US Dollars). Dataset diambil dari [California Housing Prices](https://www.kaggle.com/datasets/camnugent/california-housing-prices)\n",
        "\n",
        "Dalam dataset, terdapat beberapa kolom:\n",
        "1. longitude: A measure of how far west a house is; a higher value is farther west\n",
        "\n",
        "2. latitude: A measure of how far north a house is; a higher value is farther north\n",
        "\n",
        "3. housingMedianAge: Median age of a house within a block; a lower number is a newer building\n",
        "\n",
        "4. totalRooms: Total number of rooms within a block\n",
        "\n",
        "5. totalBedrooms: Total number of bedrooms within a block\n",
        "\n",
        "6. population: Total number of people residing within a block\n",
        "\n",
        "7. households: Total number of households, a group of people residing within a home unit, for a block\n",
        "\n",
        "8. medianIncome: Median income for households within a block of houses (measured in tens of thousands of US Dollars)\n",
        "\n",
        "9. medianHouseValue: Median house value for households within a block (measured in US Dollars)\n",
        "\n",
        "10. oceanProximity: Location of the house w.r.t ocean/sea\n",
        "\n",
        "Untuk memprediksi harga rumah berupa numeris, saya akan menggunakan model Linear Regression. Model linear regression berbentuk persamaan linear yaitu\n",
        "\n",
        "$y = wX + b$\n",
        "\n",
        "Dengan y adalah target prediksi berupa variable dependent, gradient w (weight), dan bias b (intercept dari sumbu y)\n",
        "\n",
        "Model yang digunakan akan diprediksi dengan loss function Mean Squared Error (MSE). Alasan penggunaan MSE karena sederhana dan cocok untuk pengaplikasian pada model regresi linear di banyak kasus. Model MSE mengikuti persamaan\n",
        "\n",
        "$MSE = \\frac{1}{n} \\sum_{i=1}^{n} (Y_i - \\hat{Y_i})^2$\n",
        "\n",
        "dengan $Y_i$ adalah true value dan $\\hat{Y_i}$ adalah prediction"
      ],
      "metadata": {
        "id": "6tcKwRO0e4u2"
      }
    },
    {
      "cell_type": "markdown",
      "source": [
        "# Import Library dan Dataset"
      ],
      "metadata": {
        "id": "1Qh2CdEJgO9G"
      }
    },
    {
      "cell_type": "code",
      "source": [
        "import numpy as np\n",
        "import pandas as pd \n",
        "import torch\n",
        "import torch.nn as nn\n",
        "import torch.optim as optim\n",
        "import matplotlib.pyplot as plt\n",
        "import seaborn as sns\n",
        "import warnings\n",
        "warnings.filterwarnings('ignore')\n",
        "import matplotlib\n",
        "from tqdm import tqdm # progress bar\n",
        "\n",
        "torch.manual_seed(42)"
      ],
      "metadata": {
        "colab": {
          "base_uri": "https://localhost:8080/"
        },
        "id": "PNTRXShSgRBV",
        "outputId": "1300c595-edcc-46be-c3a8-40f0e6bd7d0d"
      },
      "execution_count": 1,
      "outputs": [
        {
          "output_type": "execute_result",
          "data": {
            "text/plain": [
              "<torch._C.Generator at 0x7ff0b480c370>"
            ]
          },
          "metadata": {},
          "execution_count": 1
        }
      ]
    },
    {
      "cell_type": "code",
      "source": [
        "dataset = pd.read_csv(\"/content/housing.csv\")\n",
        "print(dataset.head())\n",
        "print(dataset.info())"
      ],
      "metadata": {
        "colab": {
          "base_uri": "https://localhost:8080/"
        },
        "id": "PFB256gRh-9e",
        "outputId": "4fbdb26a-3efd-4d6e-fb29-5c86aacb30b1"
      },
      "execution_count": 2,
      "outputs": [
        {
          "output_type": "stream",
          "name": "stdout",
          "text": [
            "   longitude  latitude  housing_median_age  total_rooms  total_bedrooms  \\\n",
            "0    -122.23     37.88                41.0        880.0           129.0   \n",
            "1    -122.22     37.86                21.0       7099.0          1106.0   \n",
            "2    -122.24     37.85                52.0       1467.0           190.0   \n",
            "3    -122.25     37.85                52.0       1274.0           235.0   \n",
            "4    -122.25     37.85                52.0       1627.0           280.0   \n",
            "\n",
            "   population  households  median_income  median_house_value ocean_proximity  \n",
            "0       322.0       126.0         8.3252            452600.0        NEAR BAY  \n",
            "1      2401.0      1138.0         8.3014            358500.0        NEAR BAY  \n",
            "2       496.0       177.0         7.2574            352100.0        NEAR BAY  \n",
            "3       558.0       219.0         5.6431            341300.0        NEAR BAY  \n",
            "4       565.0       259.0         3.8462            342200.0        NEAR BAY  \n",
            "<class 'pandas.core.frame.DataFrame'>\n",
            "RangeIndex: 20640 entries, 0 to 20639\n",
            "Data columns (total 10 columns):\n",
            " #   Column              Non-Null Count  Dtype  \n",
            "---  ------              --------------  -----  \n",
            " 0   longitude           20640 non-null  float64\n",
            " 1   latitude            20640 non-null  float64\n",
            " 2   housing_median_age  20640 non-null  float64\n",
            " 3   total_rooms         20640 non-null  float64\n",
            " 4   total_bedrooms      20433 non-null  float64\n",
            " 5   population          20640 non-null  float64\n",
            " 6   households          20640 non-null  float64\n",
            " 7   median_income       20640 non-null  float64\n",
            " 8   median_house_value  20640 non-null  float64\n",
            " 9   ocean_proximity     20640 non-null  object \n",
            "dtypes: float64(9), object(1)\n",
            "memory usage: 1.6+ MB\n",
            "None\n"
          ]
        }
      ]
    },
    {
      "cell_type": "markdown",
      "source": [
        "Terdapat 9 kolom dengan 8 numerical dan 1 categorical. Kemudian terdapat beberapa baris pada total_bedrooms memiliki null values. Untuk memudahkan maka null values akan didrop dan categorical akan didrop."
      ],
      "metadata": {
        "id": "8isHZaFZi3_T"
      }
    },
    {
      "cell_type": "code",
      "source": [
        "dataset = dataset.dropna()\n",
        "dataset = dataset.drop(\"ocean_proximity\", axis=1)\n",
        "print(dataset.info())"
      ],
      "metadata": {
        "colab": {
          "base_uri": "https://localhost:8080/"
        },
        "id": "aUOJnMF6jGZ1",
        "outputId": "aecf2ec3-f9e4-45ff-b11b-8b8925d4be67"
      },
      "execution_count": 3,
      "outputs": [
        {
          "output_type": "stream",
          "name": "stdout",
          "text": [
            "<class 'pandas.core.frame.DataFrame'>\n",
            "Int64Index: 20433 entries, 0 to 20639\n",
            "Data columns (total 9 columns):\n",
            " #   Column              Non-Null Count  Dtype  \n",
            "---  ------              --------------  -----  \n",
            " 0   longitude           20433 non-null  float64\n",
            " 1   latitude            20433 non-null  float64\n",
            " 2   housing_median_age  20433 non-null  float64\n",
            " 3   total_rooms         20433 non-null  float64\n",
            " 4   total_bedrooms      20433 non-null  float64\n",
            " 5   population          20433 non-null  float64\n",
            " 6   households          20433 non-null  float64\n",
            " 7   median_income       20433 non-null  float64\n",
            " 8   median_house_value  20433 non-null  float64\n",
            "dtypes: float64(9)\n",
            "memory usage: 1.6 MB\n",
            "None\n"
          ]
        }
      ]
    },
    {
      "cell_type": "markdown",
      "source": [
        "# Membuat model"
      ],
      "metadata": {
        "id": "RqXkIwbB5_25"
      }
    },
    {
      "cell_type": "markdown",
      "source": [
        "Mendapatkan semua kolom dalam tensor"
      ],
      "metadata": {
        "id": "4UgwKoxT6H_v"
      }
    },
    {
      "cell_type": "code",
      "source": [
        "households = torch.tensor( data = dataset.households.values, dtype = torch.float )\n",
        "housing_median_age = torch.tensor( data = dataset.housing_median_age.values, dtype = torch.float)\n",
        "latitude = torch.tensor( data = dataset.latitude.values, dtype = torch.float)\n",
        "longitude = torch.tensor( data = dataset.longitude.values, dtype = torch.float)\n",
        "median_income = torch.tensor( data = dataset.median_income.values, dtype = torch.float)\n",
        "population = torch.tensor( data = dataset.population.values, dtype = torch.float)\n",
        "total_bedrooms = torch.tensor( data = dataset.total_bedrooms.values, dtype = torch.float)\n",
        "total_rooms = torch.tensor( data = dataset.total_rooms.values, dtype = torch.float)\n",
        "median_house_value = torch.tensor( data = dataset.median_house_value.values, dtype = torch.float)"
      ],
      "metadata": {
        "id": "9y6Z8Uryu2ji"
      },
      "execution_count": 4,
      "outputs": []
    },
    {
      "cell_type": "markdown",
      "source": [
        "Mendefinisikan weight untuk setiap kolom dengan requires grad untuk track gradien"
      ],
      "metadata": {
        "id": "vKs4RWbutjzZ"
      }
    },
    {
      "cell_type": "code",
      "source": [
        "a = torch.randn(1, requires_grad = True)  # start with a random number from a normal distribution\n",
        "b = torch.randn(1, requires_grad = True)\n",
        "c = torch.randn(1, requires_grad = True)\n",
        "d = torch.randn(1, requires_grad = True)\n",
        "e = torch.randn(1, requires_grad = True)\n",
        "f = torch.randn(1, requires_grad = True)\n",
        "g = torch.randn(1, requires_grad = True)\n",
        "h = torch.randn(1, requires_grad = True)\n",
        "i = torch.randn(1, requires_grad = True)\n",
        "\n",
        "def Model(households: torch.Tensor, housing_median_age: torch.Tensor, latitude: torch.Tensor, longitude: torch.Tensor, median_income: torch.Tensor, population: torch.Tensor, total_bedrooms: torch.Tensor, total_rooms: torch.Tensor):\n",
        "  return a + b*households + c*housing_median_age + d*latitude + e*longitude + f*median_income + g*population + h*total_bedrooms + i*total_rooms"
      ],
      "metadata": {
        "id": "BaEYo88KtdsE"
      },
      "execution_count": 5,
      "outputs": []
    },
    {
      "cell_type": "code",
      "source": [
        "def MSE(y_predicted:torch.Tensor, y_target:torch.Tensor):\n",
        "    error = y_predicted - y_target\n",
        "    return torch.sum(error**2 ) / error.numel()"
      ],
      "metadata": {
        "id": "x0plLTjVwQEk"
      },
      "execution_count": 6,
      "outputs": []
    },
    {
      "cell_type": "code",
      "source": [
        "# loss function & optimizer\n",
        "predicted = Model(households, housing_median_age, latitude, longitude, median_income, population, total_bedrooms, total_rooms)\n",
        "loss = MSE(y_predicted = predicted, y_target=median_house_value)\n",
        "print(loss)"
      ],
      "metadata": {
        "colab": {
          "base_uri": "https://localhost:8080/"
        },
        "id": "RoV5Gi0amzwT",
        "outputId": "e602fac5-1890-4444-88f5-792668bdf4be"
      },
      "execution_count": 7,
      "outputs": [
        {
          "output_type": "stream",
          "name": "stdout",
          "text": [
            "tensor(5.4380e+10, grad_fn=<DivBackward0>)\n"
          ]
        }
      ]
    },
    {
      "cell_type": "code",
      "source": [
        "loss.backward()"
      ],
      "metadata": {
        "id": "Q0kjId0awzgU"
      },
      "execution_count": 8,
      "outputs": []
    },
    {
      "cell_type": "markdown",
      "source": [
        "# Training dan Evaluasi"
      ],
      "metadata": {
        "id": "59YOyH6km7Km"
      }
    },
    {
      "cell_type": "code",
      "source": [
        "## Use gradient descent\n",
        "myMSE = list()\n",
        "lr = 0.001\n",
        "for epoch in tqdm(range(1000)):\n",
        "    a.grad.zero_()\n",
        "    b.grad.zero_()\n",
        "    c.grad.zero_()\n",
        "    d.grad.zero_()\n",
        "    e.grad.zero_()\n",
        "    f.grad.zero_()\n",
        "    g.grad.zero_()\n",
        "    h.grad.zero_()\n",
        "    i.grad.zero_()\n",
        "    \n",
        "    predicted = Model(households, housing_median_age, latitude, longitude, median_income, population, total_bedrooms, total_rooms)\n",
        "    loss = MSE(y_predicted = predicted, y_target = median_house_value) # calculate MSE\n",
        "    \n",
        "    loss.backward() # compute gradients\n",
        "    myMSE.append(loss.item()) # append loss\n",
        "    with torch.no_grad():\n",
        "        a -= a.grad * lr\n",
        "        b -= b.grad * lr\n",
        "        c -= c.grad * lr\n",
        "        d -= d.grad * lr\n",
        "        e -= e.grad * lr\n",
        "        f -= f.grad * lr\n",
        "        g -= g.grad * lr\n",
        "        h -= h.grad * lr\n",
        "        i -= i.grad * lr\n",
        "        \n",
        "plt.plot(myMSE);\n",
        "plt.xlabel('Epoch (#)'), plt.ylabel('Mean squared Errors')"
      ],
      "metadata": {
        "colab": {
          "base_uri": "https://localhost:8080/",
          "height": 325
        },
        "id": "fWffa7hIw8Fj",
        "outputId": "69e49eee-9e85-45aa-bbec-3bfd7979c385"
      },
      "execution_count": 9,
      "outputs": [
        {
          "output_type": "stream",
          "name": "stderr",
          "text": [
            "100%|██████████| 1000/1000 [00:00<00:00, 1119.80it/s]\n"
          ]
        },
        {
          "output_type": "execute_result",
          "data": {
            "text/plain": [
              "(Text(0.5, 0, 'Epoch (#)'), Text(0, 0.5, 'Mean squared Errors'))"
            ]
          },
          "metadata": {},
          "execution_count": 9
        },
        {
          "output_type": "display_data",
          "data": {
            "text/plain": [
              "<Figure size 432x288 with 1 Axes>"
            ],
            "image/png": "[encoded data removed]"
          },
          "metadata": {
            "needs_background": "light"
          }
        }
      ]
    },
    {
      "cell_type": "markdown",
      "source": [
        "# Analisis dan Kesimpulan\n",
        "\n",
        "Dari plot losses yang didapat, dilihat losses semakin tinggi untuk setiap iterasi. Hal ini dapat terjadi akibat\n",
        "1. Model linear regresi tidak cocok untuk dataset yang disajikan.\n",
        "2. MSE bukan fungsi losses yang baik untuk di backpropagation oleh model.\n",
        "3. Layer kurang dan belum ada fungsi aktivasi yang baik.\n",
        "4. Penggunaan gradient descent tidak cocok untuk kasus ini."
      ],
      "metadata": {
        "id": "xLUMMKqo0P2M"
      }
    }
  ]
}